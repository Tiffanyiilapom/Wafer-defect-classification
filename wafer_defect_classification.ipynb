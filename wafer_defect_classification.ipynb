{
 "cells": [
  {
   "cell_type": "code",
   "execution_count": 1,
   "metadata": {
    "id": "iabYaOjclJ3U"
   },
   "outputs": [],
   "source": [
    "# 資料處理相關模組\n",
    "import numpy as np\n",
    "import pandas as pd\n",
    "from collections import Counter\n",
    "import random\n",
    "from sklearn.model_selection import train_test_split, KFold, StratifiedShuffleSplit\n",
    "from sklearn.metrics import accuracy_score\n",
    "from imblearn.over_sampling import SMOTE\n",
    "\n",
    "# PyTorch 深度學習模組\n",
    "import torch\n",
    "import torch.nn as nn\n",
    "import torch.nn.functional as F\n",
    "import torch.optim as optim\n",
    "import torch.utils.data as data\n",
    "from torch.utils.data import DataLoader, SubsetRandomSampler, Subset\n",
    "\n",
    "# 影像處理相關模組\n",
    "import torchvision\n",
    "import torchvision.models as models\n",
    "from torchvision import transforms\n",
    "from torchvision.utils import make_grid\n",
    "from PIL import Image\n",
    "import matplotlib.pyplot as plt\n",
    "%matplotlib inline\n",
    "\n",
    "# 檔案路徑處理相關\n",
    "import os\n",
    "from pathlib import Path"
   ]
  },
  {
   "cell_type": "code",
   "execution_count": 2,
   "metadata": {
    "colab": {
     "base_uri": "https://localhost:8080/"
    },
    "id": "oFPEC82zHev0",
    "outputId": "6d003517-48e5-4746-9c94-a25329f48511"
   },
   "outputs": [
    {
     "name": "stdout",
     "output_type": "stream",
     "text": [
      "GPU State: cuda:0\n"
     ]
    }
   ],
   "source": [
    "# GPU\n",
    "device = 'cuda:0' if torch.cuda.is_available() else 'cpu'\n",
    "print('GPU State:', device)"
   ]
  },
  {
   "cell_type": "code",
   "execution_count": 3,
   "metadata": {
    "id": "wEmaz0I0Qw7r"
   },
   "outputs": [],
   "source": [
    "# Hyperparameter\n",
    "NUM_EPOCHS = 100\n",
    "BATCH_SIZE = 64\n",
    "LR = 0.001"
   ]
  },
  {
   "cell_type": "code",
   "execution_count": 4,
   "metadata": {
    "colab": {
     "base_uri": "https://localhost:8080/"
    },
    "id": "wrif2FZVl2hW",
    "outputId": "efa3acf0-6582-4294-80b4-d8e0e0947f8c"
   },
   "outputs": [
    {
     "name": "stdout",
     "output_type": "stream",
     "text": [
      "trainset\n",
      "testset\n"
     ]
    }
   ],
   "source": [
    "train_dir = \"trainset\"\n",
    "test_dir = \"testset\"\n",
    "print(train_dir)\n",
    "print(test_dir)"
   ]
  },
  {
   "cell_type": "code",
   "execution_count": 5,
   "metadata": {
    "id": "u8xmID3qS7WR"
   },
   "outputs": [],
   "source": [
    "TRANSFORM_IMG = transforms.Compose([\n",
    "    transforms.Resize((128, 128)),\n",
    "    transforms.ToTensor(),\n",
    "])"
   ]
  },
  {
   "cell_type": "markdown",
   "metadata": {
    "id": "nmZdeb0vE4Hm"
   },
   "source": [
    "### Load all the data"
   ]
  },
  {
   "cell_type": "code",
   "execution_count": 6,
   "metadata": {
    "colab": {
     "base_uri": "https://localhost:8080/"
    },
    "id": "_uTKmy4xuT-o",
    "outputId": "63973709-3ae9-4a6b-a199-6398a7311c4d"
   },
   "outputs": [],
   "source": [
    "train_data = torchvision.datasets.ImageFolder(root=train_dir, transform=TRANSFORM_IMG)\n",
    "train_data_loader = data.DataLoader(train_data, batch_size=BATCH_SIZE, shuffle=True, num_workers=3)\n",
    "\n",
    "# Data for visualization\n",
    "vis_data_loader = data.DataLoader(train_data, batch_size=8, shuffle=True, num_workers=3)"
   ]
  },
  {
   "cell_type": "markdown",
   "metadata": {
    "id": "sgWhcvCFEfK2"
   },
   "source": [
    "### Information of dataset"
   ]
  },
  {
   "cell_type": "code",
   "execution_count": 7,
   "metadata": {
    "colab": {
     "base_uri": "https://localhost:8080/"
    },
    "id": "9MOKG4KcXG3G",
    "outputId": "63e1aeaa-6187-4318-8dd6-8080abce58d7"
   },
   "outputs": [
    {
     "name": "stdout",
     "output_type": "stream",
     "text": [
      "RGB\n",
      "(25, 27, 3)\n"
     ]
    }
   ],
   "source": [
    "im = Image.open(train_data.imgs[2][0])\n",
    "print(im.mode)\n",
    "img_array = np.array(im)\n",
    "print(img_array.shape)"
   ]
  },
  {
   "cell_type": "code",
   "execution_count": null,
   "metadata": {
    "colab": {
     "base_uri": "https://localhost:8080/",
     "height": 143
    },
    "id": "tkIjA2yNvNma",
    "outputId": "504195ef-647a-4b88-904a-0a98d55bd40b"
   },
   "outputs": [
    {
     "name": "stdout",
     "output_type": "stream",
     "text": [
      "['Center', 'Donut', 'Edge-Loc', 'Edge-Ring', 'Loc', 'Near-full', 'Random', 'Scratch']\n",
      "[0, 1, 2, 3, 4, 5, 6, 7]\n",
      "('trainset\\\\Center\\\\0.jpg', 0)\n",
      "{0: 3462, 1: 409, 2: 2417, 3: 8554, 4: 1620, 5: 54, 6: 609, 7: 500}\n"
     ]
    },
    {
     "data": {
      "image/jpeg": "[encoded data removed]",
      "image/png": "[encoded data removed]",
      "text/plain": [
       "<PIL.JpegImagePlugin.JpegImageFile image mode=RGB size=50x39>"
      ]
     },
     "metadata": {},
     "output_type": "display_data"
    }
   ],
   "source": [
    "print(train_data.classes)\n",
    "print(list(train_data.class_to_idx.values()))\n",
    "print(train_data.imgs[0])\n",
    "print(dict(Counter(train_data.targets)))\n",
    "\n",
    "im = Image.open(train_data.imgs[0][0])\n",
    "display(im)"
   ]
  },
  {
   "cell_type": "markdown",
   "metadata": {
    "id": "voiLtLTh9NSB"
   },
   "source": [
    "### 資料不平衡處理"
   ]
  },
  {
   "cell_type": "code",
   "execution_count": 9,
   "metadata": {
    "id": "MFdHZZzrBpz0"
   },
   "outputs": [],
   "source": [
    "# 隨機刪除 Edge-Loc 中17%的圖片\n",
    "edge_ring_dir = Path('trainset/Edge-Loc')\n",
    "images = list(edge_ring_dir.glob('*.jpg'))\n",
    "num_to_delete = int(len(images) * 0.17)\n",
    "images_to_delete = random.sample(images, num_to_delete)\n",
    "\n",
    "for image_path in images_to_delete:\n",
    "    os.remove(image_path)"
   ]
  },
  {
   "cell_type": "code",
   "execution_count": 10,
   "metadata": {
    "id": "SgfuWT046A6-"
   },
   "outputs": [],
   "source": [
    "# 隨機刪除 Edge-Ring 中75%的圖片\n",
    "edge_ring_dir = Path('trainset/Edge-Ring')\n",
    "images = list(edge_ring_dir.glob('*.jpg'))\n",
    "num_to_delete = int(len(images) * 0.75)\n",
    "images_to_delete = random.sample(images, num_to_delete)\n",
    "\n",
    "for image_path in images_to_delete:\n",
    "    os.remove(image_path)"
   ]
  },
  {
   "cell_type": "code",
   "execution_count": 11,
   "metadata": {
    "id": "LuW__3CK8J5q"
   },
   "outputs": [],
   "source": [
    "# 隨機刪除 Center 中42%的圖片\n",
    "edge_ring_dir = Path('trainset/Center')\n",
    "images = list(edge_ring_dir.glob('*.jpg'))\n",
    "num_to_delete = int(len(images) * 0.42)\n",
    "images_to_delete = random.sample(images, num_to_delete)\n",
    "\n",
    "for image_path in images_to_delete:\n",
    "    os.remove(image_path)"
   ]
  },
  {
   "cell_type": "code",
   "execution_count": 12,
   "metadata": {},
   "outputs": [
    {
     "name": "stdout",
     "output_type": "stream",
     "text": [
      "Donut 類別的 1500 張增強圖片已生成並存入資料夾中。\n",
      "Loc 類別的 400 張增強圖片已生成並存入資料夾中。\n",
      "Near-full 類別的 2000 張增強圖片已生成並存入資料夾中。\n",
      "Random 類別的 1400 張增強圖片已生成並存入資料夾中。\n",
      "Scratch 類別的 1500 張增強圖片已生成並存入資料夾中。\n"
     ]
    }
   ],
   "source": [
    "augmentation_tasks = {\n",
    "    'Donut': 1500,\n",
    "    'Loc':400,\n",
    "    'Near-full': 2000,\n",
    "    'Random': 1400,\n",
    "    'Scratch': 1500\n",
    "}\n",
    "\n",
    "# augmentation 設定\n",
    "augmentation_transform = transforms.Compose([\n",
    "    transforms.Resize((128, 128)),\n",
    "    transforms.RandomApply([transforms.RandomRotation(45, fill=(0))], p=0.8),  # 旋轉\n",
    "    transforms.RandomApply([transforms.RandomRotation(17, fill=(0))], p=0.7),  # 旋轉\n",
    "    transforms.RandomHorizontalFlip(p=0.7),  # 水平翻轉\n",
    "    transforms.RandomVerticalFlip(p=0.7),  # 垂直翻轉\n",
    "    transforms.RandomApply([transforms.RandomRotation(62, fill=(0))], p=0.6),  # 旋轉\n",
    "])\n",
    "\n",
    "# 定義augmentation函式\n",
    "def augment_images(category, num_augmentations):\n",
    "    # 指定資料夾路徑\n",
    "    category_dir = Path(f'trainset/{category}')\n",
    "    images = list(category_dir.glob('*.jpg'))  # 假設圖片格式為 .jpg\n",
    "\n",
    "    for i in range(num_augmentations):\n",
    "        # 隨機選取圖片並打開\n",
    "        img_path = random.choice(images)\n",
    "        img = Image.open(img_path)\n",
    "\n",
    "        # 應用增強\n",
    "        augmented_img = augmentation_transform(img)\n",
    "\n",
    "        # 保存增強後的圖片\n",
    "        augmented_img.save(category_dir / f\"augmented_{i}.jpg\")\n",
    "\n",
    "    print(f\"{category} 類別的 {num_augmentations} 張增強圖片已生成並存入資料夾中。\")\n",
    "\n",
    "# 執行每個類別的augmentation\n",
    "for category, num_augmentations in augmentation_tasks.items():\n",
    "    augment_images(category, num_augmentations)\n"
   ]
  },
  {
   "cell_type": "code",
   "execution_count": 43,
   "metadata": {},
   "outputs": [
    {
     "data": {
      "text/plain": [
       "'\\n# SMOTE\\n# Define augmentation tasks\\naugmentation_num = 1000\\nsmote_category = [\\'Donut\\', \\'Loc\\', \\'Near-full\\', \\'Random\\', \\'Scratch\\']\\n\\n# Load images and labels into numpy arrays\\ndef load_images_from_directory(directory):\\n    category_image_paths = {}  # Dictionary to store image paths by category\\n    for category in smote_category:\\n        category_dir = Path(directory) / category\\n        image_paths = list(category_dir.glob(\\'*.jpg\\'))\\n        category_image_paths[category] = image_paths\\n    return category_image_paths\\n\\n# Load image paths\\ncategory_image_paths = load_images_from_directory(\\'trainset\\')\\n\\n# Randomly select and process images\\ndef select_and_process_images(category_image_paths):\\n    images = []\\n    labels = []\\n    \\n    for category in smote_category:\\n        all_paths = category_image_paths.get(category, [])\\n        selected_paths = random.choices(all_paths, k=augmentation_num)\\n      \\n        for img_path in selected_paths:\\n            img = Image.open(img_path).resize((64, 64))  # 保持 RGB 格式\\n            images.append(np.array(img).flatten())  # 將 RGB 圖片平展為向量\\n            labels.append(category)\\n    \\n    return np.array(images), np.array(labels)\\n\\n# Process images and labels\\nimages, labels = select_and_process_images(category_image_paths)\\n\\n# Apply SMOTE for data augmentation\\nsmote = SMOTE(random_state=42,k_neighbors=3)\\nX_smote, y_smote = smote.fit_resample(images, labels)\\n\\n# Convert augmented data back to images and save them\\ndef save_smote_generated_images(X_augmented, y_augmented):\\n    for i, (image_vector, label) in enumerate(zip(X_augmented, y_augmented)):\\n        # Reshape the vector back to an RGB image\\n        img_array = image_vector.reshape(64, 64, 3).astype(np.uint8)\\n        img = Image.fromarray(img_array, \\'RGB\\')\\n\\n        # Save the image\\n        category_dir = Path(\\'trainset\\') / label\\n        category_dir.mkdir(parents=True, exist_ok=True)\\n        img.save(category_dir / f\"smote_generated_{i}.jpg\")\\n\\n# Save the images\\nsave_smote_generated_images(X_smote, y_smote)\\nprint(\"SMOTE-generated images have been saved successfully.\")\\n'"
      ]
     },
     "execution_count": 43,
     "metadata": {},
     "output_type": "execute_result"
    }
   ],
   "source": [
    "'''\n",
    "# SMOTE\n",
    "# Define augmentation tasks\n",
    "augmentation_num = 1000\n",
    "smote_category = ['Donut', 'Loc', 'Near-full', 'Random', 'Scratch']\n",
    "\n",
    "# Load images and labels into numpy arrays\n",
    "def load_images_from_directory(directory):\n",
    "    category_image_paths = {}  # Dictionary to store image paths by category\n",
    "    for category in smote_category:\n",
    "        category_dir = Path(directory) / category\n",
    "        image_paths = list(category_dir.glob('*.jpg'))\n",
    "        category_image_paths[category] = image_paths\n",
    "    return category_image_paths\n",
    "\n",
    "# Load image paths\n",
    "category_image_paths = load_images_from_directory('trainset')\n",
    "\n",
    "# Randomly select and process images\n",
    "def select_and_process_images(category_image_paths):\n",
    "    images = []\n",
    "    labels = []\n",
    "    \n",
    "    for category in smote_category:\n",
    "        all_paths = category_image_paths.get(category, [])\n",
    "        selected_paths = random.choices(all_paths, k=augmentation_num)\n",
    "      \n",
    "        for img_path in selected_paths:\n",
    "            img = Image.open(img_path).resize((64, 64))  # 保持 RGB 格式\n",
    "            images.append(np.array(img).flatten())  # 將 RGB 圖片平展為向量\n",
    "            labels.append(category)\n",
    "    \n",
    "    return np.array(images), np.array(labels)\n",
    "\n",
    "# Process images and labels\n",
    "images, labels = select_and_process_images(category_image_paths)\n",
    "\n",
    "# Apply SMOTE for data augmentation\n",
    "smote = SMOTE(random_state=42,k_neighbors=3)\n",
    "X_smote, y_smote = smote.fit_resample(images, labels)\n",
    "\n",
    "# Convert augmented data back to images and save them\n",
    "def save_smote_generated_images(X_augmented, y_augmented):\n",
    "    for i, (image_vector, label) in enumerate(zip(X_augmented, y_augmented)):\n",
    "        # Reshape the vector back to an RGB image\n",
    "        img_array = image_vector.reshape(64, 64, 3).astype(np.uint8)\n",
    "        img = Image.fromarray(img_array, 'RGB')\n",
    "\n",
    "        # Save the image\n",
    "        category_dir = Path('trainset') / label\n",
    "        category_dir.mkdir(parents=True, exist_ok=True)\n",
    "        img.save(category_dir / f\"smote_generated_{i}.jpg\")\n",
    "\n",
    "# Save the images\n",
    "save_smote_generated_images(X_smote, y_smote)\n",
    "print(\"SMOTE-generated images have been saved successfully.\")\n",
    "'''"
   ]
  },
  {
   "cell_type": "code",
   "execution_count": 44,
   "metadata": {},
   "outputs": [
    {
     "data": {
      "text/plain": [
       "'\\nclass AddGaussianNoise(object):\\n    def __init__(self, mean=0.0, std=1.0):\\n        self.mean = mean\\n        self.std = std\\n\\n    def __call__(self, img):\\n        if not isinstance(img, np.ndarray):\\n            img = np.array(img)  # 將圖像轉換為 NumPy 陣列\\n        \\n        noise = np.random.normal(self.mean, self.std, img.shape)\\n        noisy_img = img + noise\\n        noisy_img = np.clip(noisy_img, 0, 255)  # 確保像素值在 [0, 255] 範圍內\\n        return Image.fromarray(noisy_img.astype(np.uint8))  # 將陣列轉換回 PIL 圖像\\n'"
      ]
     },
     "execution_count": 44,
     "metadata": {},
     "output_type": "execute_result"
    }
   ],
   "source": [
    "'''\n",
    "class AddGaussianNoise(object):\n",
    "    def __init__(self, mean=0.0, std=1.0):\n",
    "        self.mean = mean\n",
    "        self.std = std\n",
    "\n",
    "    def __call__(self, img):\n",
    "        if not isinstance(img, np.ndarray):\n",
    "            img = np.array(img)  # 將圖像轉換為 NumPy 陣列\n",
    "        \n",
    "        noise = np.random.normal(self.mean, self.std, img.shape)\n",
    "        noisy_img = img + noise\n",
    "        noisy_img = np.clip(noisy_img, 0, 255)  # 確保像素值在 [0, 255] 範圍內\n",
    "        return Image.fromarray(noisy_img.astype(np.uint8))  # 將陣列轉換回 PIL 圖像\n",
    "'''"
   ]
  },
  {
   "cell_type": "markdown",
   "metadata": {
    "id": "s4BD7M9f8tsi"
   },
   "source": [
    "### 重新讀取圖片"
   ]
  },
  {
   "cell_type": "code",
   "execution_count": 13,
   "metadata": {},
   "outputs": [],
   "source": [
    "TRANSFORM_IMG = transforms.Compose([\n",
    "    transforms.Grayscale(),\n",
    "    transforms.Resize((128, 128)),\n",
    "    transforms.ToTensor(),\n",
    "    #transforms.Normalize(mean=[0.347, 0.5225, 0.3851], std=[0.2355, 0.2780, 0.1610]),\n",
    "    transforms.Normalize((0.5,),(0.5))\n",
    "])"
   ]
  },
  {
   "cell_type": "code",
   "execution_count": 14,
   "metadata": {
    "id": "WsWwNCOi8qLP"
   },
   "outputs": [],
   "source": [
    "train_data = torchvision.datasets.ImageFolder(root=train_dir, transform=TRANSFORM_IMG)\n",
    "train_data_loader = data.DataLoader(train_data, batch_size=BATCH_SIZE, shuffle=True, num_workers=3)\n",
    "\n",
    "# Data for visualization\n",
    "vis_data_loader = data.DataLoader(train_data, batch_size=8, shuffle=True, num_workers=3)"
   ]
  },
  {
   "cell_type": "code",
   "execution_count": 15,
   "metadata": {},
   "outputs": [],
   "source": [
    "# 劃分訓練集和驗證集\n",
    "train_size = int(0.9 * len(train_data))\n",
    "val_size = len(train_data) - train_size\n",
    "train_dataset, val_dataset = torch.utils.data.random_split(train_data, [train_size, val_size])\n",
    "\n",
    "# 建立訓練和驗證資料加載器\n",
    "train_data_loader = data.DataLoader(train_dataset, batch_size=BATCH_SIZE, shuffle=True, num_workers=3)\n",
    "val_data_loader = data.DataLoader(val_dataset, batch_size=BATCH_SIZE, shuffle=True, num_workers=3)"
   ]
  },
  {
   "cell_type": "code",
   "execution_count": 16,
   "metadata": {
    "colab": {
     "base_uri": "https://localhost:8080/",
     "height": 147
    },
    "id": "j_396n9183qF",
    "outputId": "7e44ed6d-ef88-417e-9b3e-715507e994ea"
   },
   "outputs": [
    {
     "name": "stdout",
     "output_type": "stream",
     "text": [
      "['Center', 'Donut', 'Edge-Loc', 'Edge-Ring', 'Loc', 'Near-full', 'Random', 'Scratch']\n",
      "[0, 1, 2, 3, 4, 5, 6, 7]\n",
      "('trainset\\\\Center\\\\0.jpg', 0)\n",
      "{0: 2008, 1: 1909, 2: 2007, 3: 2139, 4: 2020, 5: 2054, 6: 2009, 7: 2000}\n"
     ]
    },
    {
     "data": {
      "text/plain": [
       "228"
      ]
     },
     "execution_count": 16,
     "metadata": {},
     "output_type": "execute_result"
    }
   ],
   "source": [
    "# im = Image.open(train_data.imgs[0][0])\n",
    "# img_array = np.array(im)\n",
    "print(train_data.classes)\n",
    "print(list(train_data.class_to_idx.values()))\n",
    "print(train_data.imgs[0])\n",
    "print(dict(Counter(train_data.targets)))\n",
    "len(train_data_loader) #批次數量"
   ]
  },
  {
   "cell_type": "markdown",
   "metadata": {
    "id": "zQnaFdIIFR2_"
   },
   "source": [
    "### Define the VGG architecture"
   ]
  },
  {
   "cell_type": "code",
   "execution_count": 17,
   "metadata": {},
   "outputs": [],
   "source": [
    "class VGGNet(nn.Module):\n",
    "    def __init__(self):\n",
    "        super(VGGNet, self).__init__()\n",
    "\n",
    "        self.cnn = nn.Sequential(\n",
    "            # Block 1\n",
    "            nn.Conv2d(1, 16, 3, padding=1),  # [16, 128, 128]\n",
    "            nn.BatchNorm2d(16),\n",
    "            nn.ReLU(),\n",
    "            nn.Conv2d(16, 16, 3, padding=1),  # [16, 128, 128]\n",
    "            nn.BatchNorm2d(16),\n",
    "            nn.ReLU(),\n",
    "            nn.MaxPool2d(2, 2),  # [16, 64, 64]\n",
    "\n",
    "            # Block 2\n",
    "            nn.Conv2d(16, 32, 3, padding=1),  # [32, 64, 64]\n",
    "            nn.BatchNorm2d(32),\n",
    "            nn.ReLU(),\n",
    "            nn.Conv2d(32, 32, 3, padding=1),  # [32, 64, 64]\n",
    "            nn.BatchNorm2d(32),\n",
    "            nn.ReLU(),\n",
    "            nn.MaxPool2d(2, 2),  # [32, 32, 32]\n",
    "\n",
    "            # Block 3\n",
    "            nn.Conv2d(32, 64, 3, padding=1),  # [64, 32, 32]\n",
    "            nn.BatchNorm2d(64),\n",
    "            nn.ReLU(),\n",
    "            nn.Conv2d(64, 64, 3, padding=1),  # [64, 32, 32]\n",
    "            nn.BatchNorm2d(64),\n",
    "            nn.ReLU(),\n",
    "            nn.MaxPool2d(2, 2),  # [64, 16, 16]\n",
    "\n",
    "            # Block 4\n",
    "            nn.Conv2d(64, 128, 3, padding=1),  # [128, 16, 16]\n",
    "            nn.BatchNorm2d(128),\n",
    "            nn.ReLU(),\n",
    "            nn.Conv2d(128, 128, 3, padding=1),  # [128, 16, 16]\n",
    "            nn.BatchNorm2d(128),\n",
    "            nn.ReLU(),\n",
    "            nn.MaxPool2d(2, 2),  # [128, 8, 8]\n",
    "\n",
    "            # Additional Block for 128x128 input\n",
    "            nn.Conv2d(128, 256, 3, padding=1),  # [256, 8, 8]\n",
    "            nn.BatchNorm2d(256),\n",
    "            nn.ReLU(),\n",
    "            nn.Conv2d(256, 256, 3, padding=1),  # [256, 8, 8]\n",
    "            nn.BatchNorm2d(256),\n",
    "            nn.ReLU(),\n",
    "            nn.MaxPool2d(2, 2)  # [256, 4, 4]\n",
    "        )\n",
    "\n",
    "        self.fc = nn.Sequential(\n",
    "            nn.Linear(256 * 4 * 4, 256),\n",
    "            nn.ReLU(),\n",
    "            nn.Dropout(0.5),  # 50% dropout\n",
    "            nn.Linear(256, 128),\n",
    "            nn.ReLU(),\n",
    "            nn.Dropout(0.5),\n",
    "            nn.Linear(128, 8)  # Output layer for 8 classes\n",
    "        )\n",
    "\n",
    "    def forward(self, x):\n",
    "        x = self.cnn(x)\n",
    "        x = x.view(x.size(0), -1)  # Flatten\n",
    "        x = self.fc(x)\n",
    "        return x\n",
    "\n",
    "# Move to device (e.g., GPU)\n",
    "net = VGGNet().to(device)\n"
   ]
  },
  {
   "cell_type": "code",
   "execution_count": 18,
   "metadata": {},
   "outputs": [],
   "source": [
    "class FocalLoss(nn.Module):\n",
    "    def __init__(self, alpha=1, gamma=2, reduction='mean'):\n",
    "        super(FocalLoss, self).__init__()\n",
    "        self.alpha = alpha\n",
    "        self.gamma = gamma\n",
    "        self.reduction = reduction\n",
    "\n",
    "    def forward(self, inputs, targets):\n",
    "        # Compute cross entropy loss\n",
    "        ce_loss = F.cross_entropy(inputs, targets, reduction='none')\n",
    "        \n",
    "        # Compute the modulating factor (1 - p_t) ^ gamma\n",
    "        pt = torch.exp(-ce_loss)\n",
    "        focal_loss = self.alpha * (1 - pt) ** self.gamma * ce_loss\n",
    "\n",
    "        if self.reduction == 'mean':\n",
    "            return focal_loss.mean()\n",
    "        elif self.reduction == 'sum':\n",
    "            return focal_loss.sum()\n",
    "        else:\n",
    "            return focal_loss"
   ]
  },
  {
   "cell_type": "code",
   "execution_count": 19,
   "metadata": {
    "id": "RQvdQmZVYP66"
   },
   "outputs": [],
   "source": [
    "# Define loss function\n",
    "criterion = FocalLoss(alpha=1, gamma=2)\n",
    "# criterion = nn.CrossEntropyLoss()\n",
    "optimizer = optim.AdamW(net.parameters(), lr=0.00005, weight_decay=1e-5)\n",
    "#scheduler = torch.optim.lr_scheduler.CosineAnnealingLR(optimizer, T_max=10, eta_min=1e-6)"
   ]
  },
  {
   "cell_type": "code",
   "execution_count": 20,
   "metadata": {},
   "outputs": [
    {
     "name": "stdout",
     "output_type": "stream",
     "text": [
      "Epoch: 1/100, Loss: 0.7865\n",
      "Epoch: 1/100, Validation Loss: 0.4060, Validation Accuracy: 0.7622\n",
      "Epoch: 2/100, Loss: 0.3157\n",
      "Epoch: 2/100, Validation Loss: 0.2536, Validation Accuracy: 0.8260\n",
      "Epoch: 3/100, Loss: 0.2187\n",
      "Epoch: 3/100, Validation Loss: 0.1996, Validation Accuracy: 0.8458\n",
      "Epoch: 4/100, Loss: 0.1621\n",
      "Epoch: 4/100, Validation Loss: 0.1530, Validation Accuracy: 0.8830\n",
      "Epoch: 5/100, Loss: 0.1330\n",
      "Epoch: 5/100, Validation Loss: 0.1605, Validation Accuracy: 0.8799\n",
      "Epoch: 6/100, Loss: 0.1009\n",
      "Epoch: 6/100, Validation Loss: 0.0953, Validation Accuracy: 0.9201\n",
      "Epoch: 7/100, Loss: 0.0853\n",
      "Epoch: 7/100, Validation Loss: 0.0995, Validation Accuracy: 0.9263\n",
      "Epoch: 8/100, Loss: 0.0676\n",
      "Epoch: 8/100, Validation Loss: 0.1010, Validation Accuracy: 0.9276\n",
      "Epoch: 9/100, Loss: 0.0547\n",
      "Epoch: 9/100, Validation Loss: 0.0700, Validation Accuracy: 0.9474\n",
      "Epoch: 10/100, Loss: 0.0485\n",
      "Epoch: 10/100, Validation Loss: 0.0940, Validation Accuracy: 0.9307\n",
      "Epoch: 11/100, Loss: 0.0379\n",
      "Epoch: 11/100, Validation Loss: 0.0835, Validation Accuracy: 0.9449\n",
      "Epoch: 12/100, Loss: 0.0302\n",
      "Epoch: 12/100, Validation Loss: 0.0652, Validation Accuracy: 0.9492\n",
      "Epoch: 13/100, Loss: 0.0277\n",
      "Epoch: 13/100, Validation Loss: 0.0817, Validation Accuracy: 0.9467\n",
      "Epoch: 14/100, Loss: 0.0241\n",
      "Epoch: 14/100, Validation Loss: 0.0564, Validation Accuracy: 0.9579\n",
      "Epoch: 15/100, Loss: 0.0210\n",
      "Epoch: 15/100, Validation Loss: 0.0620, Validation Accuracy: 0.9498\n",
      "Epoch: 16/100, Loss: 0.0212\n",
      "Epoch: 16/100, Validation Loss: 0.0667, Validation Accuracy: 0.9610\n",
      "Epoch: 17/100, Loss: 0.0162\n",
      "Epoch: 17/100, Validation Loss: 0.0592, Validation Accuracy: 0.9616\n",
      "Epoch: 18/100, Loss: 0.0151\n",
      "Epoch: 18/100, Validation Loss: 0.0754, Validation Accuracy: 0.9560\n",
      "Epoch: 19/100, Loss: 0.0165\n",
      "Epoch: 19/100, Validation Loss: 0.0693, Validation Accuracy: 0.9573\n",
      "Epoch: 20/100, Loss: 0.0112\n",
      "Epoch: 20/100, Validation Loss: 0.0594, Validation Accuracy: 0.9598\n",
      "Epoch: 21/100, Loss: 0.0138\n",
      "Epoch: 21/100, Validation Loss: 0.0658, Validation Accuracy: 0.9579\n",
      "Epoch: 22/100, Loss: 0.0103\n",
      "Epoch: 22/100, Validation Loss: 0.0535, Validation Accuracy: 0.9659\n",
      "Epoch: 23/100, Loss: 0.0123\n",
      "Epoch: 23/100, Validation Loss: 0.0476, Validation Accuracy: 0.9641\n",
      "Epoch: 24/100, Loss: 0.0093\n",
      "Epoch: 24/100, Validation Loss: 0.0627, Validation Accuracy: 0.9641\n",
      "Epoch: 25/100, Loss: 0.0100\n",
      "Epoch: 25/100, Validation Loss: 0.0635, Validation Accuracy: 0.9666\n",
      "Epoch: 26/100, Loss: 0.0084\n",
      "Epoch: 26/100, Validation Loss: 0.0911, Validation Accuracy: 0.9548\n",
      "Epoch: 27/100, Loss: 0.0115\n",
      "Epoch: 27/100, Validation Loss: 0.0605, Validation Accuracy: 0.9641\n",
      "Epoch: 28/100, Loss: 0.0093\n",
      "Epoch: 28/100, Validation Loss: 0.0689, Validation Accuracy: 0.9579\n",
      "Epoch: 29/100, Loss: 0.0079\n",
      "Epoch: 29/100, Validation Loss: 0.0699, Validation Accuracy: 0.9610\n",
      "Epoch: 30/100, Loss: 0.0070\n",
      "Epoch: 30/100, Validation Loss: 0.0415, Validation Accuracy: 0.9666\n",
      "Epoch: 31/100, Loss: 0.0094\n",
      "Epoch: 31/100, Validation Loss: 0.0638, Validation Accuracy: 0.9548\n",
      "Epoch: 32/100, Loss: 0.0069\n",
      "Epoch: 32/100, Validation Loss: 0.0694, Validation Accuracy: 0.9567\n",
      "Epoch: 33/100, Loss: 0.0066\n",
      "Epoch: 33/100, Validation Loss: 0.0739, Validation Accuracy: 0.9610\n",
      "Epoch: 34/100, Loss: 0.0081\n",
      "Epoch: 34/100, Validation Loss: 0.1515, Validation Accuracy: 0.9331\n",
      "Epoch: 35/100, Loss: 0.0104\n",
      "Epoch: 35/100, Validation Loss: 0.0645, Validation Accuracy: 0.9678\n",
      "Epoch: 36/100, Loss: 0.0059\n",
      "Epoch: 36/100, Validation Loss: 0.0703, Validation Accuracy: 0.9598\n",
      "Epoch: 37/100, Loss: 0.0076\n",
      "Epoch: 37/100, Validation Loss: 0.0660, Validation Accuracy: 0.9604\n",
      "Epoch: 38/100, Loss: 0.0071\n",
      "Epoch: 38/100, Validation Loss: 0.0757, Validation Accuracy: 0.9585\n",
      "Epoch: 39/100, Loss: 0.0032\n",
      "Epoch: 39/100, Validation Loss: 0.0836, Validation Accuracy: 0.9616\n",
      "Epoch: 40/100, Loss: 0.0027\n",
      "Epoch: 40/100, Validation Loss: 0.0669, Validation Accuracy: 0.9678\n",
      "Epoch: 41/100, Loss: 0.0080\n",
      "Epoch: 41/100, Validation Loss: 0.0707, Validation Accuracy: 0.9666\n",
      "Epoch: 42/100, Loss: 0.0074\n",
      "Epoch: 42/100, Validation Loss: 0.1120, Validation Accuracy: 0.9610\n",
      "Epoch: 43/100, Loss: 0.0088\n",
      "Epoch: 43/100, Validation Loss: 0.0622, Validation Accuracy: 0.9715\n",
      "Epoch: 44/100, Loss: 0.0055\n",
      "Epoch: 44/100, Validation Loss: 0.0691, Validation Accuracy: 0.9598\n",
      "Epoch: 45/100, Loss: 0.0041\n",
      "Epoch: 45/100, Validation Loss: 0.0490, Validation Accuracy: 0.9752\n",
      "Early stopping triggered\n",
      "Finished Training\n"
     ]
    },
    {
     "data": {
      "image/png": "[encoded data removed]",
      "text/plain": [
       "<Figure size 1000x500 with 1 Axes>"
      ]
     },
     "metadata": {},
     "output_type": "display_data"
    }
   ],
   "source": [
    "# 初始化變數\n",
    "best_loss = float('inf')  # Initialize best loss\n",
    "early_stop = 0\n",
    "patience = 15\n",
    "train_losses = []  # 用於記錄每個 epoch 的訓練損失\n",
    "val_losses = []    # 用於記錄每個 epoch 的驗證損失\n",
    "\n",
    "for epoch in range(NUM_\n",
    "                   EPOCHS):  # Loop over the dataset multiple times\n",
    "    running_loss = 0.0\n",
    "    for i, data in enumerate(train_data_loader, 0):\n",
    "        # Get the inputs; data is a list of [inputs, labels]\n",
    "        inputs, labels = data\n",
    "        inputs = inputs.to(device)\n",
    "        labels = labels.to(device)\n",
    "\n",
    "        # Zero the parameter gradients\n",
    "        optimizer.zero_grad()\n",
    "\n",
    "        # Forward + backward + optimize\n",
    "        outputs = net(inputs)\n",
    "        loss = criterion(outputs, labels)\n",
    "        loss.backward()\n",
    "        grad_norm = nn.utils.clip_grad_norm_(net.parameters(), max_norm=10)\n",
    "        optimizer.step()\n",
    "\n",
    "        # Accumulate loss\n",
    "        running_loss += loss.item()\n",
    "\n",
    "    # 計算每個 epoch 的平均訓練損失\n",
    "    epoch_train_loss = running_loss / len(train_data_loader)\n",
    "    train_losses.append(epoch_train_loss)  # 記錄訓練損失\n",
    "    print(f'Epoch: {epoch + 1}/{NUM_EPOCHS}, Loss: {epoch_train_loss:.4f}')\n",
    "\n",
    "    # 計算驗證損失和準確度\n",
    "    val_loss = 0.0\n",
    "    correct = 0\n",
    "    total = 0\n",
    "    with torch.no_grad():\n",
    "        for val_data in val_data_loader:\n",
    "            val_inputs, val_labels = val_data\n",
    "            val_inputs = val_inputs.to(device)\n",
    "            val_labels = val_labels.to(device)\n",
    "            val_outputs = net(val_inputs)\n",
    "            loss = criterion(val_outputs, val_labels)\n",
    "            val_loss += loss.item()\n",
    "\n",
    "            # 計算準確度\n",
    "            _, predicted = torch.max(val_outputs, 1)\n",
    "            total += val_labels.size(0)\n",
    "            correct += (predicted == val_labels).sum().item()\n",
    "\n",
    "    # 計算每個 epoch 的平均驗證損失\n",
    "    epoch_val_loss = val_loss / len(val_data_loader)\n",
    "    val_losses.append(epoch_val_loss)  # 記錄驗證損失\n",
    "    val_accuracy = correct / total\n",
    "\n",
    "    print(f'Epoch: {epoch + 1}/{NUM_EPOCHS}, Validation Loss: {epoch_val_loss:.4f}, Validation Accuracy: {val_accuracy:.4f}')\n",
    "\n",
    "    # 儲存最佳模型參數\n",
    "    if epoch_val_loss < best_loss:\n",
    "        best_loss = epoch_val_loss\n",
    "        torch.save(net.state_dict(), 'best_model.pth')  # Save model parameters\n",
    "        early_stop = 0\n",
    "    else:\n",
    "        early_stop += 1\n",
    "\n",
    "    if early_stop >= patience:\n",
    "        print(\"Early stopping triggered\")\n",
    "        break\n",
    "\n",
    "print('Finished Training')\n",
    "\n",
    "# 視覺化訓練損失和驗證損失\n",
    "plt.figure(figsize=(10, 5))\n",
    "plt.plot(range(1, len(train_losses) + 1), train_losses, label='Training Loss', marker='o')\n",
    "plt.plot(range(1, len(val_losses) + 1), val_losses, label='Validation Loss', marker='o')\n",
    "plt.xlabel('Epochs')\n",
    "plt.ylabel('Loss')\n",
    "plt.title('Training and Validation Loss')\n",
    "plt.legend()\n",
    "plt.grid(True)\n",
    "plt.show()"
   ]
  },
  {
   "cell_type": "code",
   "execution_count": 21,
   "metadata": {},
   "outputs": [
    {
     "name": "stderr",
     "output_type": "stream",
     "text": [
      "C:\\Users\\TIFFANY\\AppData\\Local\\Temp\\ipykernel_16672\\2530533583.py:3: FutureWarning: You are using `torch.load` with `weights_only=False` (the current default value), which uses the default pickle module implicitly. It is possible to construct malicious pickle data which will execute arbitrary code during unpickling (See https://github.com/pytorch/pytorch/blob/main/SECURITY.md#untrusted-models for more details). In a future release, the default value for `weights_only` will be flipped to `True`. This limits the functions that could be executed during unpickling. Arbitrary objects will no longer be allowed to be loaded via this mode unless they are explicitly allowlisted by the user via `torch.serialization.add_safe_globals`. We recommend you start setting `weights_only=True` for any use case where you don't have full control of the loaded file. Please open an issue on GitHub for any issues related to this experimental feature.\n",
      "  model_test.load_state_dict(torch.load(PATH))\n"
     ]
    },
    {
     "data": {
      "text/plain": [
       "VGGNet(\n",
       "  (cnn): Sequential(\n",
       "    (0): Conv2d(1, 16, kernel_size=(3, 3), stride=(1, 1), padding=(1, 1))\n",
       "    (1): BatchNorm2d(16, eps=1e-05, momentum=0.1, affine=True, track_running_stats=True)\n",
       "    (2): ReLU()\n",
       "    (3): Conv2d(16, 16, kernel_size=(3, 3), stride=(1, 1), padding=(1, 1))\n",
       "    (4): BatchNorm2d(16, eps=1e-05, momentum=0.1, affine=True, track_running_stats=True)\n",
       "    (5): ReLU()\n",
       "    (6): MaxPool2d(kernel_size=2, stride=2, padding=0, dilation=1, ceil_mode=False)\n",
       "    (7): Conv2d(16, 32, kernel_size=(3, 3), stride=(1, 1), padding=(1, 1))\n",
       "    (8): BatchNorm2d(32, eps=1e-05, momentum=0.1, affine=True, track_running_stats=True)\n",
       "    (9): ReLU()\n",
       "    (10): Conv2d(32, 32, kernel_size=(3, 3), stride=(1, 1), padding=(1, 1))\n",
       "    (11): BatchNorm2d(32, eps=1e-05, momentum=0.1, affine=True, track_running_stats=True)\n",
       "    (12): ReLU()\n",
       "    (13): MaxPool2d(kernel_size=2, stride=2, padding=0, dilation=1, ceil_mode=False)\n",
       "    (14): Conv2d(32, 64, kernel_size=(3, 3), stride=(1, 1), padding=(1, 1))\n",
       "    (15): BatchNorm2d(64, eps=1e-05, momentum=0.1, affine=True, track_running_stats=True)\n",
       "    (16): ReLU()\n",
       "    (17): Conv2d(64, 64, kernel_size=(3, 3), stride=(1, 1), padding=(1, 1))\n",
       "    (18): BatchNorm2d(64, eps=1e-05, momentum=0.1, affine=True, track_running_stats=True)\n",
       "    (19): ReLU()\n",
       "    (20): MaxPool2d(kernel_size=2, stride=2, padding=0, dilation=1, ceil_mode=False)\n",
       "    (21): Conv2d(64, 128, kernel_size=(3, 3), stride=(1, 1), padding=(1, 1))\n",
       "    (22): BatchNorm2d(128, eps=1e-05, momentum=0.1, affine=True, track_running_stats=True)\n",
       "    (23): ReLU()\n",
       "    (24): Conv2d(128, 128, kernel_size=(3, 3), stride=(1, 1), padding=(1, 1))\n",
       "    (25): BatchNorm2d(128, eps=1e-05, momentum=0.1, affine=True, track_running_stats=True)\n",
       "    (26): ReLU()\n",
       "    (27): MaxPool2d(kernel_size=2, stride=2, padding=0, dilation=1, ceil_mode=False)\n",
       "    (28): Conv2d(128, 256, kernel_size=(3, 3), stride=(1, 1), padding=(1, 1))\n",
       "    (29): BatchNorm2d(256, eps=1e-05, momentum=0.1, affine=True, track_running_stats=True)\n",
       "    (30): ReLU()\n",
       "    (31): Conv2d(256, 256, kernel_size=(3, 3), stride=(1, 1), padding=(1, 1))\n",
       "    (32): BatchNorm2d(256, eps=1e-05, momentum=0.1, affine=True, track_running_stats=True)\n",
       "    (33): ReLU()\n",
       "    (34): MaxPool2d(kernel_size=2, stride=2, padding=0, dilation=1, ceil_mode=False)\n",
       "  )\n",
       "  (fc): Sequential(\n",
       "    (0): Linear(in_features=4096, out_features=256, bias=True)\n",
       "    (1): ReLU()\n",
       "    (2): Dropout(p=0.5, inplace=False)\n",
       "    (3): Linear(in_features=256, out_features=128, bias=True)\n",
       "    (4): ReLU()\n",
       "    (5): Dropout(p=0.5, inplace=False)\n",
       "    (6): Linear(in_features=128, out_features=8, bias=True)\n",
       "  )\n",
       ")"
      ]
     },
     "execution_count": 21,
     "metadata": {},
     "output_type": "execute_result"
    }
   ],
   "source": [
    "PATH = 'best_model.pth'\n",
    "model_test = VGGNet()\n",
    "model_test.load_state_dict(torch.load(PATH))\n",
    "model_test.to(device)\n",
    "model_test.eval()"
   ]
  },
  {
   "cell_type": "code",
   "execution_count": 22,
   "metadata": {
    "colab": {
     "base_uri": "https://localhost:8080/",
     "height": 332
    },
    "id": "deq4rV_gYZUB",
    "outputId": "e340f739-9721-4970-886d-4313e512cd00"
   },
   "outputs": [
    {
     "name": "stdout",
     "output_type": "stream",
     "text": [
      "Predict finished\n"
     ]
    }
   ],
   "source": [
    "correct = 0\n",
    "total = 0\n",
    "res = []\n",
    "\n",
    "# since we're not training, we don't need to calculate the gradients for our outputs\n",
    "with torch.no_grad():\n",
    "\n",
    "    for i in range(7894):\n",
    "        # get test images from test dataset\n",
    "        tpath = os.path.join(test_dir+'/',str(i)+'.jpg')\n",
    "        fopen = Image.open(tpath)\n",
    "        image = TRANSFORM_IMG(fopen)\n",
    "        image = image.unsqueeze(0)\n",
    "        image = image.to(device)\n",
    "\n",
    "        outputs = model_test(image)\n",
    "        _, predicted = torch.max(outputs.data, 1)\n",
    "\n",
    "        for j in range(len(predicted)):\n",
    "          res.append(str(train_data.classes[predicted[j]]))\n",
    "          \n",
    "print('Predict finished')\n"
   ]
  },
  {
   "cell_type": "code",
   "execution_count": 23,
   "metadata": {
    "id": "9mgGOcD-YveC"
   },
   "outputs": [],
   "source": [
    "df_ans = pd.DataFrame(res , columns=['Category'])\n",
    "df_ans.to_csv('mySubmission.csv', index_label='ID')"
   ]
  },
  {
   "cell_type": "markdown",
   "metadata": {
    "id": "T3EeY17NFAbZ"
   },
   "source": [
    "### Some tips for getting better result\n",
    "- image size (pick the best suitable size to input)\n",
    "- different CNN architecture\n",
    "- data augmentation\n",
    "- reasonable hyperparameter tuning strategy"
   ]
  }
 ],
 "metadata": {
  "accelerator": "GPU",
  "colab": {
   "provenance": []
  },
  "gpuClass": "standard",
  "kernelspec": {
   "display_name": "openmmlab",
   "language": "python",
   "name": "python3"
  },
  "language_info": {
   "codemirror_mode": {
    "name": "ipython",
    "version": 3
   },
   "file_extension": ".py",
   "mimetype": "text/x-python",
   "name": "python",
   "nbconvert_exporter": "python",
   "pygments_lexer": "ipython3",
   "version": "3.8.20"
  }
 },
 "nbformat": 4,
 "nbformat_minor": 0
}
